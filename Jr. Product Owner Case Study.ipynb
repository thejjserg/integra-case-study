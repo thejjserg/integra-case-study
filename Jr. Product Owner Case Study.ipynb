{
 "cells": [
  {
   "attachments": {},
   "cell_type": "markdown",
   "id": "b6d87d3a",
   "metadata": {},
   "source": [
    "This document will highlight the **Jr. Product Owner: Case Study** for **Integra Partners**.\n",
    "\n",
    "We will first review the scenarios and related tasks, then present a mock example using randomly generated data.\n",
    "\n",
    "# Scenario\n",
    "You are the Junior Product Owner responsible for managing a Tier 1 Support Team that handles day-to-day user requests for a cloud-based application. Over the past month, your team has received an increasing number of support tickets related to intermittent login failures. While these issues are being resolved individually, the volume of tickets is growing, and some users are becoming frustrated with the frequency of this problem.\n",
    "\n",
    "Your role is to determine how best to address this situation and ensure it doesn’t become a recurring issue."
   ]
  },
  {
   "attachments": {},
   "cell_type": "markdown",
   "id": "0852cc3b",
   "metadata": {},
   "source": [
    "## Task 1: Data Analysis and Trend Identification\n",
    "Analyze the data from the past month’s support tickets. You notice that many login failure issues come from specific user groups, particularly those accessing the system during peak hours. There are similarities in the error messages these users report, suggesting a potential pattern or underlying issue.\n",
    "\n",
    "1. What specific data would you prioritize further to investigate the root cause of these login failures?\n",
    "2. Based on the data, what trends can you identify, and\n",
    "3. How would you use this information to escalate the issue to the Tier 3 Support Team for futher investigation?"
   ]
  }
 ],
 "metadata": {
  "kernelspec": {
   "display_name": "Python 3 (ipykernel)",
   "language": "python",
   "name": "python3"
  },
  "language_info": {
   "codemirror_mode": {
    "name": "ipython",
    "version": 3
   },
   "file_extension": ".py",
   "mimetype": "text/x-python",
   "name": "python",
   "nbconvert_exporter": "python",
   "pygments_lexer": "ipython3",
   "version": "3.11.5"
  }
 },
 "nbformat": 4,
 "nbformat_minor": 5
}
