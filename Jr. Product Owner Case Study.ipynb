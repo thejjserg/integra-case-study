{
 "cells": [
  {
   "attachments": {},
   "cell_type": "markdown",
   "id": "8d4dcf9d",
   "metadata": {},
   "source": [
    "This document will highlight the **Jr. Product Owner: Case Study** for **Integra Partners**.\n",
    "\n",
    "We will first review the scenarios and related tasks, then present a mock example using randomly generated data.\n",
    "\n",
    "# Scenario\n",
    "You are the Junior Product Owner responsible for managing a Tier 1 Support Team that handles day-to-day user requests for a cloud-based application. Over the past month, your team has received an increasing number of support tickets related to intermittent login failures. While these issues are being resolved individually, the volume of tickets is growing, and some users are becoming frustrated with the frequency of this problem.\n",
    "\n",
    "Your role is to determine how best to address this situation and ensure it doesn’t become a recurring issue."
   ]
  },
  {
   "attachments": {},
   "cell_type": "markdown",
   "id": "2c80f48b",
   "metadata": {},
   "source": [
    "## Task 1: Data Analysis and Trend Identification\n",
    "Analyze the data from the past month’s support tickets. You notice that many login failure issues come from specific user groups, particularly those accessing the system during peak hours. There are similarities in the error messages these users report, suggesting a potential pattern or underlying issue.\n",
    "\n",
    "1. What specific data would you prioritize further to investigate the root cause of these login failures?\n",
    "2. Based on the data, what trends can you identify, and\n",
    "3. How would you use this information to escalate the issue to the Tier 3 Support Team for futher investigation?"
   ]
  },
  {
   "cell_type": "markdown",
   "id": "6abe9395",
   "metadata": {},
   "source": [
    "First, we believe that **Timestamps of Failures**, **Error Types**, and **User Environment** are the top 3 areas we can prioritize first. \n",
    "\n",
    "- **Timestamps of Failures** can help with visualizing spikes in errors and help determine if there are server capacity limits in our systems. Timestamps can help us pinpoint which specific timeframe we are seeing issues. Perhaps there is heavy traffic at specific timeframes and the system is overloaded and is not scaling well. This could be a sign that additional server resources are required and the infrastructure team will need to be engaged.\n",
    "\n",
    "- **Error Types** can show the nature of issues and types of errors we are receiving. These can be **Timeouts**, **Service Unavailable**, **Authentication Failed**, or any other types of errors. The Error Types can suggest backend issues, like an authentication service failure or delayed response from the server. Tabulating the number of specific requests can help point the Tier 3 system in the right direction in resolving the issues.\n",
    "\n",
    "- **User Environment** is important because it can show various configuration issues. For example, perhaps, there is a difference in issues reported for Windows vs Mac or different browser options. If specific user groups are experiencing more failures, then there may be a network-related issue (slow VPN connections, regional server problems, or something else) or inconsistent system configuration for our users.\n",
    "\n",
    "When escalating to a Tier 3 Support Team, I would provide the **overall problem** and highl"
   ]
  }
 ],
 "metadata": {
  "kernelspec": {
   "display_name": "Python 3 (ipykernel)",
   "language": "python",
   "name": "python3"
  },
  "language_info": {
   "codemirror_mode": {
    "name": "ipython",
    "version": 3
   },
   "file_extension": ".py",
   "mimetype": "text/x-python",
   "name": "python",
   "nbconvert_exporter": "python",
   "pygments_lexer": "ipython3",
   "version": "3.11.5"
  }
 },
 "nbformat": 4,
 "nbformat_minor": 5
}
